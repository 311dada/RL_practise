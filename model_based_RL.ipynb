{
 "cells": [
  {
   "cell_type": "code",
   "execution_count": 28,
   "metadata": {
    "collapsed": true
   },
   "outputs": [],
   "source": [
    "import matplotlib.pyplot as plt\n",
    "import operator"
   ]
  },
  {
   "cell_type": "code",
   "execution_count": 71,
   "metadata": {
    "collapsed": false
   },
   "outputs": [],
   "source": [
    "class model_RL():\n",
    "    \n",
    "    # init \n",
    "    def __init__(self, size, treasure_pos, gamma = 0.9):\n",
    "        self.size = size\n",
    "        self.states = range(size * size)\n",
    "        self.treasure_pos = treasure_pos\n",
    "        self.actions = ['n', 's', 'w', 'e']\n",
    "        self.gamma = gamma\n",
    "        self.rewards = dict()\n",
    "        self.policy = ['n' for i in range(size * size)]\n",
    "        for i in range(self.size):\n",
    "            self.policy[i] = 's'\n",
    "        self.value = [0 for i in range(size * size)]\n",
    "        \n",
    "        # fill the dictionary\n",
    "\n",
    "        for i in range(self.size):\n",
    "            for j in range(self.size):\n",
    "                for action in self.actions:\n",
    "                    if i * size + j == self.treasure_pos:\n",
    "                        self.rewards[(i * size + j, action)] = 0\n",
    "                    else:\n",
    "                        self.rewards[(i * size + j, action)] = -1\n",
    "    \n",
    "    def reset_value(self):\n",
    "        self.value = [0 for i in range(self.size * self.size)]\n",
    "    \n",
    "    def reset(self):\n",
    "        self.reset_value()\n",
    "        self.policy = ['n' for i in range(self.size * self.size)]\n",
    "        for i in range(self.size):\n",
    "            self.policy[i] = 's'\n",
    "    \n",
    "    def update_policy(self):\n",
    "        for state in range(self.size * self.size):\n",
    "            row, col = state // self.size, state % self.size\n",
    "            maxm = -10000000\n",
    "            if row > 0:\n",
    "                cur_state = (row - 1) * self.size + col\n",
    "                if self.value[cur_state] > maxm:\n",
    "                    self.policy[state] = 'n'\n",
    "                    maxm = self.value[cur_state]\n",
    "            if row < self.size - 1:\n",
    "                cur_state = (row + 1) * self.size + col\n",
    "                if self.value[cur_state] > maxm:\n",
    "                    self.policy[state] = 's'\n",
    "                    maxm = self.value[cur_state]\n",
    "            if col > 0:\n",
    "                cur_state = state - 1\n",
    "                if self.value[cur_state] > maxm:\n",
    "                    self.policy[state] = 'w'\n",
    "                    maxm = self.value[cur_state]\n",
    "            if col < self.size - 1:\n",
    "                cur_state = state + 1\n",
    "                if self.value[cur_state] > maxm:\n",
    "                    self.policy[state] = 'e'\n",
    "                    maxm = self.value[cur_state]\n",
    "        return self.policy\n",
    "    \n",
    "    # given current state and action, get the next state\n",
    "    def get_next_state(self, state, action):\n",
    "        if action == 'n':\n",
    "            return state - self.size\n",
    "        elif action == 's':\n",
    "            return state + self.size\n",
    "        elif action == 'w':\n",
    "            return state - 1\n",
    "        else:\n",
    "            return state + 1\n",
    "    \n",
    "    # given current state and action, get the reward\n",
    "    def get_reward(self, state, action):\n",
    "        return self.rewards[(state, action)]\n",
    "    \n",
    "    def update_to_expected_value(self):\n",
    "        pre = self.value.copy()\n",
    "        bias = 0.01\n",
    "        cur_bias = 1\n",
    "        cur = [0 for i in range(self.size * self.size)]\n",
    "        while cur_bias > bias:\n",
    "            for state in self.states:\n",
    "                action = self.policy[state]\n",
    "                \n",
    "                next_state = self.get_next_state(state, action)\n",
    "                cur[state] = self.rewards[(state, action)] + self.gamma * pre[next_state]\n",
    "            cur[self.treasure_pos] = self.rewards[(self.treasure_pos, 'n')]\n",
    "            cur_bias = abs(sum(cur) - sum(pre))\n",
    "            pre = cur.copy()\n",
    "        self.value = pre\n",
    "    \n",
    "    def get_max_value_action(self, state):\n",
    "        action = 'n'\n",
    "        row, col = state // self.size, state % self.size\n",
    "        maxm = -10000000\n",
    "        if row > 0:\n",
    "            cur_state = (row - 1) * self.size + col\n",
    "            if self.value[cur_state] > maxm:\n",
    "                action = 'n'\n",
    "                maxm = self.value[cur_state]\n",
    "        if row < self.size - 1:\n",
    "            cur_state = (row + 1) * self.size + col\n",
    "            if self.value[cur_state] > maxm:\n",
    "                action = 's'\n",
    "                maxm = self.value[cur_state]\n",
    "        if col > 0:\n",
    "            cur_state = state - 1\n",
    "            if self.value[cur_state] > maxm:\n",
    "                action = 'w'\n",
    "                maxm = self.value[cur_state]\n",
    "        if col < self.size - 1:\n",
    "            cur_state = state + 1\n",
    "            if self.value[cur_state] > maxm:\n",
    "                action = 'e'\n",
    "                maxm = self.value[cur_state]\n",
    "        return action\n",
    "    \n",
    "    # policy iteration\n",
    "    def policy_iteration(self):\n",
    "        pre = self.policy.copy()\n",
    "        \n",
    "        while True:\n",
    "            self.update_to_expected_value()\n",
    "            cur = self.update_policy()\n",
    "            if operator.eq(cur, pre):\n",
    "                break\n",
    "            pre = cur.copy()\n",
    "            self.reset_value()\n",
    "    \n",
    "    def update_value(self):\n",
    "        cur = self.value.copy()\n",
    "        for state in range(self.size * self.size):\n",
    "            if state == self.treasure_pos:\n",
    "                continue\n",
    "            action = self.get_max_value_action(state)\n",
    "            next_state = self.get_next_state(state, action)\n",
    "            cur[state] = self.rewards[(state, action)] + self.gamma * self.value[next_state]\n",
    "        self.value = cur\n",
    "    # value iteration\n",
    "    def value_iteration(self):\n",
    "        bias = 0.01\n",
    "        cur_bias = 1\n",
    "        while cur_bias > bias:\n",
    "            pre = self.value.copy()\n",
    "            self.update_value()\n",
    "            cur_bias = abs(sum(pre) - sum(self.value))\n",
    "        self.update_policy()\n"
   ]
  },
  {
   "cell_type": "code",
   "execution_count": 72,
   "metadata": {
    "collapsed": true
   },
   "outputs": [],
   "source": [
    "RL1 = model_RL(4, 9)"
   ]
  },
  {
   "cell_type": "code",
   "execution_count": 73,
   "metadata": {
    "collapsed": false
   },
   "outputs": [
    {
     "name": "stdout",
     "output_type": "stream",
     "text": [
      "['s', 's', 's', 's', 's', 's', 's', 's', 'e', 'n', 'w', 'w', 'n', 'n', 'n', 'n']\n",
      "['s', 's', 's', 's', 's', 's', 's', 's', 'e', 'n', 'w', 'w', 'n', 'n', 'n', 'n']\n"
     ]
    }
   ],
   "source": [
    "RL1.policy_iteration()\n",
    "print(RL1.policy)\n",
    "RL1.reset()\n",
    "RL1.value_iteration()\n",
    "print(RL1.policy)"
   ]
  },
  {
   "cell_type": "code",
   "execution_count": null,
   "metadata": {
    "collapsed": false
   },
   "outputs": [],
   "source": []
  },
  {
   "cell_type": "code",
   "execution_count": null,
   "metadata": {
    "collapsed": true
   },
   "outputs": [],
   "source": []
  },
  {
   "cell_type": "code",
   "execution_count": null,
   "metadata": {
    "collapsed": true
   },
   "outputs": [],
   "source": []
  }
 ],
 "metadata": {
  "anaconda-cloud": {},
  "kernelspec": {
   "display_name": "Python [conda env:Anaconda3]",
   "language": "python",
   "name": "conda-env-Anaconda3-py"
  },
  "language_info": {
   "codemirror_mode": {
    "name": "ipython",
    "version": 3
   },
   "file_extension": ".py",
   "mimetype": "text/x-python",
   "name": "python",
   "nbconvert_exporter": "python",
   "pygments_lexer": "ipython3",
   "version": "3.5.2"
  }
 },
 "nbformat": 4,
 "nbformat_minor": 2
}
